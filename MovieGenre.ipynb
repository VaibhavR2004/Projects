{
  "nbformat": 4,
  "nbformat_minor": 0,
  "metadata": {
    "colab": {
      "provenance": [],
      "authorship_tag": "ABX9TyNH8BPpL/NDClCE0ajgUe+N",
      "include_colab_link": true
    },
    "kernelspec": {
      "name": "python3",
      "display_name": "Python 3"
    },
    "language_info": {
      "name": "python"
    }
  },
  "cells": [
    {
      "cell_type": "markdown",
      "metadata": {
        "id": "view-in-github",
        "colab_type": "text"
      },
      "source": [
        "<a href=\"https://colab.research.google.com/github/VaibhavR2004/Array/blob/main/MovieGenre.ipynb\" target=\"_parent\"><img src=\"https://colab.research.google.com/assets/colab-badge.svg\" alt=\"Open In Colab\"/></a>"
      ]
    },
    {
      "cell_type": "markdown",
      "source": [
        "Movie Genre Classification\n"
      ],
      "metadata": {
        "id": "vCcQevezApWM"
      }
    },
    {
      "cell_type": "markdown",
      "source": [
        "importing necessary Libraries"
      ],
      "metadata": {
        "id": "ZYq7-ryVAytX"
      }
    },
    {
      "cell_type": "code",
      "source": [
        "import pandas as pd\n",
        "import numpy as np\n",
        "from sklearn.feature_extraction.text import TfidfVectorizer\n",
        "from sklearn.multioutput import MultiOutputClassifier\n",
        "from sklearn.naive_bayes import MultinomialNB\n",
        "from sklearn.preprocessing import MultiLabelBinarizer\n",
        "from sklearn.metrics import accuracy_score, precision_score, recall_score, f1_score\n",
        "from tqdm import tqdm"
      ],
      "metadata": {
        "id": "c4eM1Z0zAbF_"
      },
      "execution_count": null,
      "outputs": []
    },
    {
      "cell_type": "markdown",
      "source": [
        "List of Genres Learnt from the Training DATA\n"
      ],
      "metadata": {
        "id": "d5-dVX8DBocX"
      }
    },
    {
      "cell_type": "code",
      "source": [
        "genre_list = [ 'action', 'adult', 'adventure', 'animation', 'biography', 'comedy', 'crime', 'documentary', 'family', 'fantasy', 'game-show', 'history', 'horror', 'music', 'musical', 'mystery', 'news', 'reality-tv', 'romance', 'sci-fi', 'short', 'sport', 'talk-show', 'thriller', 'war', 'western' ]\n"
      ],
      "metadata": {
        "id": "gyUiY35WB26H"
      },
      "execution_count": null,
      "outputs": []
    },
    {
      "cell_type": "code",
      "source": [
        "fallback_genre = 'Unknown'"
      ],
      "metadata": {
        "id": "oJFhxkEkhw77"
      },
      "execution_count": null,
      "outputs": []
    },
    {
      "cell_type": "code",
      "source": [
        "import pandas as pd\n",
        "from tqdm import tqdm\n",
        "\n",
        "try:\n",
        "    with tqdm(total=50, desc=\"Loading Train Data\") as pbar:\n",
        "        train_data = pd.read_csv(r\"/content/train_data.txt\",\n",
        "                                 sep=':::',\n",
        "                                 header=None,\n",
        "                                 names=['SerialNumber', 'MOVIE_NAME', 'GENRE', 'MOVIE_PLOT'],\n",
        "                                 engine='python')\n",
        "        pbar.update(50)\n",
        "except Exception as e:\n",
        "    print(f\"Error loading train_data: {e}\")\n",
        "    raise\n"
      ],
      "metadata": {
        "colab": {
          "base_uri": "https://localhost:8080/"
        },
        "id": "HwMIVZ-yh2y7",
        "outputId": "053a2757-f409-4712-d535-f276391ee8b7"
      },
      "execution_count": null,
      "outputs": [
        {
          "output_type": "stream",
          "name": "stderr",
          "text": [
            "Loading Train Data: 100%|██████████| 50/50 [00:00<00:00, 70.91it/s]\n"
          ]
        }
      ]
    },
    {
      "cell_type": "markdown",
      "source": [
        "##Data preprocessing for Training data\n"
      ],
      "metadata": {
        "id": "naCeTloz9r9n"
      }
    },
    {
      "cell_type": "code",
      "source": [
        "X_train = train_data['MOVIE_PLOT'].astype(str).apply(lambda x: x.lower())\n",
        "genre_labels = [genre.split(',') for genre in train_data['GENRE']]\n",
        "mlb = MultiLabelBinarizer()\n",
        "y_train = mlb.fit_transform(genre_labels)"
      ],
      "metadata": {
        "id": "DCq2u8qS9v3m"
      },
      "execution_count": null,
      "outputs": []
    },
    {
      "cell_type": "markdown",
      "source": [
        "## TF-IDF Vectorization"
      ],
      "metadata": {
        "id": "D2KKU1GX-653"
      }
    },
    {
      "cell_type": "code",
      "source": [
        "tfidf_vectorizer = TfidfVectorizer(max_features=5000)"
      ],
      "metadata": {
        "id": "0PaahD_3_A2x"
      },
      "execution_count": null,
      "outputs": []
    },
    {
      "cell_type": "markdown",
      "source": [
        "##Fit and transform the training data with progress bar"
      ],
      "metadata": {
        "id": "0v6I5ybtAMIc"
      }
    },
    {
      "cell_type": "code",
      "source": [
        "with tqdm(total=50, desc=\"Transforming Training Data\") as pbar:\n",
        "    X_train_tfidf = tfidf_vectorizer.fit_transform(X_train)\n",
        "    pbar.update(50)"
      ],
      "metadata": {
        "colab": {
          "base_uri": "https://localhost:8080/"
        },
        "id": "tQFmQT71_Tx-",
        "outputId": "27d63b4d-6d26-495b-8a16-18bd22c8af71"
      },
      "execution_count": null,
      "outputs": [
        {
          "output_type": "stream",
          "name": "stderr",
          "text": [
            "Transforming Training Data: 100%|██████████| 50/50 [00:16<00:00,  3.05it/s]\n"
          ]
        }
      ]
    },
    {
      "cell_type": "markdown",
      "source": [
        "##Train a MultiOutput Naive Bayes Classifier using the traing data"
      ],
      "metadata": {
        "id": "Pi2P00OaCXph"
      }
    },
    {
      "cell_type": "code",
      "source": [
        "with tqdm(total=50, desc=\"Training Naive Bayes Classifier\") as pbar:\n",
        "    multi_output_classifier = MultiOutputClassifier(MultinomialNB())\n",
        "    multi_output_classifier.fit(X_train_tfidf, y_train)\n",
        "    pbar.update(50)"
      ],
      "metadata": {
        "colab": {
          "base_uri": "https://localhost:8080/"
        },
        "id": "guprNBKYAroc",
        "outputId": "ed912135-c213-4cd9-b9f9-22328357a7bb"
      },
      "execution_count": null,
      "outputs": [
        {
          "output_type": "stream",
          "name": "stderr",
          "text": [
            "Training Naive Bayes Classifier: 100%|██████████| 50/50 [00:02<00:00, 23.47it/s]\n"
          ]
        }
      ]
    },
    {
      "cell_type": "markdown",
      "source": [
        "##LOad your Test dataset from_test_data.txt"
      ],
      "metadata": {
        "id": "WVSvvLyyCbKO"
      }
    },
    {
      "cell_type": "code",
      "source": [
        "try:\n",
        "    with tqdm(total=50, desc=\"Loading Test Data\") as pbar:\n",
        "        test_data = pd.read_csv(r'/content/train_data.txt',sep=':::', header=None, names=['SerialNumber', 'MOVIE_NAME', 'MOVIE_PLOT'], engine='python')\n",
        "        pbar.update(50)\n",
        "except Exception as e:\n",
        "    print(f\"Error loading test_data: {e}\")\n",
        "    raise"
      ],
      "metadata": {
        "colab": {
          "base_uri": "https://localhost:8080/"
        },
        "id": "WaHuKvvQCi9s",
        "outputId": "41997ef8-2332-4b6a-bad0-222fbe415eca"
      },
      "execution_count": null,
      "outputs": [
        {
          "output_type": "stream",
          "name": "stderr",
          "text": [
            "Loading Test Data: 100%|██████████| 50/50 [00:01<00:00, 48.89it/s]\n"
          ]
        }
      ]
    },
    {
      "cell_type": "markdown",
      "source": [
        "##Data preprocessing for test data"
      ],
      "metadata": {
        "id": "EokUJAlDC8c8"
      }
    },
    {
      "cell_type": "code",
      "source": [
        "X_test= test_data['MOVIE_PLOT'].astype(str).apply(lambda x: x.lower())"
      ],
      "metadata": {
        "id": "KIdd_D_VDCtw"
      },
      "execution_count": null,
      "outputs": []
    },
    {
      "cell_type": "markdown",
      "source": [
        "##Transform the test data with progress bar\n"
      ],
      "metadata": {
        "id": "9VwTIucOBljN"
      }
    },
    {
      "cell_type": "code",
      "source": [
        "with tqdm(total=50, desc=\"Transforming Test Data\") as pbar:\n",
        "    X_test_tfidf = tfidf_vectorizer.transform(X_test)\n",
        "    pbar.update(50)"
      ],
      "metadata": {
        "colab": {
          "base_uri": "https://localhost:8080/"
        },
        "id": "NXDC7j6sBY-H",
        "outputId": "ce599100-7515-4bbe-d946-75a9fe19a344"
      },
      "execution_count": null,
      "outputs": [
        {
          "output_type": "stream",
          "name": "stderr",
          "text": [
            "Transforming Test Data: 100%|██████████| 50/50 [00:07<00:00,  6.27it/s]\n"
          ]
        }
      ]
    },
    {
      "cell_type": "markdown",
      "source": [
        "##Predict genre on the test data\n"
      ],
      "metadata": {
        "id": "CoeiSvHAF1h-"
      }
    },
    {
      "cell_type": "code",
      "source": [
        "with tqdm(total=50, desc=\"Predicting Genres\") as pbar:\n",
        "    y_pred = multi_output_classifier.predict(X_test_tfidf)\n",
        "    pbar.update(50)"
      ],
      "metadata": {
        "colab": {
          "base_uri": "https://localhost:8080/"
        },
        "id": "P4IXXdUMF5kM",
        "outputId": "bd5edc14-fe86-4f61-c6f2-12c2507b98e3"
      },
      "execution_count": null,
      "outputs": [
        {
          "output_type": "stream",
          "name": "stderr",
          "text": [
            "Predicting Genres: 100%|██████████| 50/50 [00:00<00:00, 94.30it/s]\n"
          ]
        }
      ]
    },
    {
      "cell_type": "markdown",
      "source": [
        "##Create a DataFrame for test data with movie name and predicted genre"
      ],
      "metadata": {
        "id": "8U9zXUnxDRFg"
      }
    },
    {
      "cell_type": "code",
      "source": [
        "test_movie_names = test_data['MOVIE_NAME']\n",
        "predicted_genres = mlb.inverse_transform(y_pred)\n",
        "test_results = pd.DataFrame({'MOVIE_NAME': test_movie_names, 'GENRE': predicted_genres})"
      ],
      "metadata": {
        "id": "gGmRSo5BBgiW"
      },
      "execution_count": null,
      "outputs": []
    },
    {
      "cell_type": "markdown",
      "source": [
        "##Replace empty unpredicted genres with the fallback genre"
      ],
      "metadata": {
        "id": "6ts8aUJaInBT"
      }
    },
    {
      "source": [
        "test_results['GENRE'] = test_results['GENRE'].apply(lambda genres: [fallback_genre] if len(genres) == 0 else genres)\n",
        "test_results['Serial_Number']=test_data['SerialNumber']\n",
        "test_results['MOVIE_PLOT']=test_data['MOVIE_PLOT']"
      ],
      "cell_type": "code",
      "metadata": {
        "id": "97NPi2M8JWJ9"
      },
      "execution_count": null,
      "outputs": []
    },
    {
      "cell_type": "markdown",
      "source": [
        "##Write the result to an Output File with Proper Formatting"
      ],
      "metadata": {
        "id": "FZcK2OMCJdPo"
      }
    },
    {
      "cell_type": "code",
      "source": [
        "with open(\"test_data_solution.txt\", \"w\", encoding=\"utf-8\" ) as output_file:\n",
        "    for _, row in test_results.iterrows():\n",
        "      id=row['Serial_Number']\n",
        "      movie_name = row['MOVIE_NAME']\n",
        "      genre_str = ','.join(row['GENRE'])\n",
        "      plot=row['MOVIE_PLOT']\n",
        "      output_file.write(f\"{id}:::{movie_name}:::{genre_str}:::{plot}\\n\")\n"
      ],
      "metadata": {
        "id": "FmkKe3zaI64c"
      },
      "execution_count": null,
      "outputs": []
    },
    {
      "cell_type": "markdown",
      "source": [
        "Calculate Evaluation metrics using training labels(as a proxy)"
      ],
      "metadata": {
        "id": "bFevhlWMK4Bw"
      }
    },
    {
      "cell_type": "code",
      "source": [
        "y_train_pred = multi_output_classifier.predict(X_train_tfidf)"
      ],
      "metadata": {
        "id": "OFclPH-lLESH"
      },
      "execution_count": null,
      "outputs": []
    },
    {
      "cell_type": "markdown",
      "source": [
        "##Calculate Evaluation Metrics"
      ],
      "metadata": {
        "id": "S2vG5Yf8KecK"
      }
    },
    {
      "cell_type": "code",
      "source": [
        "accuracy = accuracy_score(y_train, y_train_pred)\n",
        "precision = precision_score(y_train, y_train_pred, average='micro')\n",
        "recall = recall_score(y_train, y_train_pred, average='micro')\n",
        "f1 = f1_score(y_train, y_train_pred, average='micro')"
      ],
      "metadata": {
        "id": "y02b0iVdLTh5"
      },
      "execution_count": null,
      "outputs": []
    },
    {
      "cell_type": "markdown",
      "source": [
        "##Print accuracy precision recall f1-score"
      ],
      "metadata": {
        "id": "69yqAMNzLxhx"
      }
    },
    {
      "cell_type": "code",
      "source": [
        "print (\"\\n\\nModel Evaluation Metrics:\")\n",
        "print(f\"Accuracy: {accuracy*100: .2f}%\\n\")\n",
        "print(f\"Precision: {precision:.2f}\\n\")\n",
        "print(f\"Recall: {recall: 2f}\\n\")\n",
        "print(f\"F1-score: {f1:.2f}\\n\")"
      ],
      "metadata": {
        "colab": {
          "base_uri": "https://localhost:8080/"
        },
        "id": "K6PCvWzkLpVm",
        "outputId": "7c29a8b9-eacd-49e4-dcf9-dc6053fe3829"
      },
      "execution_count": null,
      "outputs": [
        {
          "output_type": "stream",
          "name": "stdout",
          "text": [
            "\n",
            "\n",
            "Model Evaluation Metrics:\n",
            "Accuracy:  27.73%\n",
            "\n",
            "Precision: 0.72\n",
            "\n",
            "Recall:  0.280629\n",
            "\n",
            "F1-score: 0.40\n",
            "\n"
          ]
        }
      ]
    },
    {
      "cell_type": "code",
      "source": [],
      "metadata": {
        "id": "RP6p0LYPMC5Q"
      },
      "execution_count": null,
      "outputs": []
    }
  ]
}